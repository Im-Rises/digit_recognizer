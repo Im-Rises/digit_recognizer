{
 "cells": [
  {
   "cell_type": "markdown",
   "source": [
    "# Digit recognition in Machine Learning\n"
   ],
   "metadata": {
    "collapsed": false,
    "pycharm": {
     "name": "#%% md\n"
    }
   }
  },
  {
   "cell_type": "markdown",
   "source": [
    "## Desription\n",
    "\n",
    "The MNSIT dataset is composed of a set of 42 000 images for trainging with a resolution of 28x28x1 in grayscale."
   ],
   "metadata": {
    "collapsed": false,
    "pycharm": {
     "name": "#%% md\n"
    }
   }
  },
  {
   "cell_type": "markdown",
   "source": [
    "## Load data\n"
   ],
   "metadata": {
    "collapsed": false,
    "pycharm": {
     "name": "#%% md\n"
    }
   },
   "execution_count": 1
  },
  {
   "cell_type": "code",
   "execution_count": 161,
   "outputs": [],
   "source": [
    "import pandas as pd\n",
    "\n",
    "df_train = pd.read_csv(\"Datasets/train.csv\")\n",
    "y = df_train[\"label\"]\n",
    "X = df_train.drop(\"label\", axis=1)"
   ],
   "metadata": {
    "collapsed": false,
    "pycharm": {
     "name": "#%%\n"
    }
   }
  },
  {
   "cell_type": "code",
   "execution_count": 162,
   "outputs": [],
   "source": [
    "# df_test = pd.read_csv(\"Datasets/test.csv\")\n",
    "# y_test = []  # Empty no labels for test data\n",
    "# X_test = df_test"
   ],
   "metadata": {
    "collapsed": false,
    "pycharm": {
     "name": "#%%\n"
    }
   }
  },
  {
   "cell_type": "markdown",
   "source": [
    "## Split data"
   ],
   "metadata": {
    "collapsed": false,
    "pycharm": {
     "name": "#%% md\n"
    }
   }
  },
  {
   "cell_type": "code",
   "execution_count": 163,
   "outputs": [],
   "source": [
    "from sklearn.model_selection import train_test_split\n",
    "\n",
    "X_train, X_test, y_train, y_test = train_test_split(X, y, test_size=0.2, shuffle=True)"
   ],
   "metadata": {
    "collapsed": false,
    "pycharm": {
     "name": "#%%\n"
    }
   }
  },
  {
   "cell_type": "markdown",
   "source": [
    "## Show images info"
   ],
   "metadata": {
    "collapsed": false,
    "pycharm": {
     "name": "#%% md\n"
    }
   }
  },
  {
   "cell_type": "code",
   "execution_count": 164,
   "outputs": [
    {
     "name": "stdout",
     "output_type": "stream",
     "text": [
      "   label  pixel0  pixel1  pixel2  pixel3  pixel4  pixel5  pixel6  pixel7  \\\n",
      "0      1       0       0       0       0       0       0       0       0   \n",
      "1      0       0       0       0       0       0       0       0       0   \n",
      "2      1       0       0       0       0       0       0       0       0   \n",
      "3      4       0       0       0       0       0       0       0       0   \n",
      "4      0       0       0       0       0       0       0       0       0   \n",
      "\n",
      "   pixel8  ...  pixel774  pixel775  pixel776  pixel777  pixel778  pixel779  \\\n",
      "0       0  ...         0         0         0         0         0         0   \n",
      "1       0  ...         0         0         0         0         0         0   \n",
      "2       0  ...         0         0         0         0         0         0   \n",
      "3       0  ...         0         0         0         0         0         0   \n",
      "4       0  ...         0         0         0         0         0         0   \n",
      "\n",
      "   pixel780  pixel781  pixel782  pixel783  \n",
      "0         0         0         0         0  \n",
      "1         0         0         0         0  \n",
      "2         0         0         0         0  \n",
      "3         0         0         0         0  \n",
      "4         0         0         0         0  \n",
      "\n",
      "[5 rows x 785 columns]\n"
     ]
    }
   ],
   "source": [
    "print(df_train.head())"
   ],
   "metadata": {
    "collapsed": false,
    "pycharm": {
     "name": "#%%\n"
    }
   }
  },
  {
   "cell_type": "code",
   "execution_count": 165,
   "outputs": [
    {
     "name": "stdout",
     "output_type": "stream",
     "text": [
      "<class 'pandas.core.frame.DataFrame'>\n",
      "RangeIndex: 42000 entries, 0 to 41999\n",
      "Columns: 785 entries, label to pixel783\n",
      "dtypes: int64(785)\n",
      "memory usage: 251.5 MB\n"
     ]
    }
   ],
   "source": [
    "df_train.info()"
   ],
   "metadata": {
    "collapsed": false,
    "pycharm": {
     "name": "#%%\n"
    }
   }
  },
  {
   "cell_type": "markdown",
   "source": [
    "## Plot images\n",
    "\n",
    "Plot images as BW with reverse BW."
   ],
   "metadata": {
    "collapsed": false,
    "pycharm": {
     "name": "#%% md\n"
    }
   }
  },
  {
   "cell_type": "code",
   "execution_count": 166,
   "outputs": [
    {
     "data": {
      "text/plain": "<Figure size 648x648 with 9 Axes>",
      "image/png": "[encoded data removed]"
     },
     "metadata": {
      "needs_background": "light"
     },
     "output_type": "display_data"
    }
   ],
   "source": [
    "import matplotlib.pyplot as plt\n",
    "\n",
    "plt.figure(figsize=(9, 9))\n",
    "for i in range(9):\n",
    "    plt.subplot(3, 3, i + 1)\n",
    "    plt.imshow(X_train.iloc[i, 0:].values.reshape(28, 28), cmap=plt.cm.gray_r)\n",
    "    plt.axis(\"off\")\n",
    "plt.show()"
   ],
   "metadata": {
    "collapsed": false,
    "pycharm": {
     "name": "#%%\n"
    }
   }
  },
  {
   "cell_type": "markdown",
   "source": [
    "## Images processing"
   ],
   "metadata": {
    "collapsed": false,
    "pycharm": {
     "name": "#%% md\n"
    }
   }
  },
  {
   "cell_type": "code",
   "execution_count": 167,
   "outputs": [],
   "source": [
    "from sklearn.preprocessing import MinMaxScaler\n",
    "\n",
    "### Feature scaling\n",
    "## Rescale to -1,+1 in our case 0,+1 because we only have positive pixels' value:\n",
    "scale = MinMaxScaler()\n",
    "\n",
    "# fit_transform() is used on the training data so that we can scale the training data and also learn the scaling parameters of that data.\n",
    "X_train = scale.fit_transform(X_train)\n",
    "\n",
    "# Using the transform method we can use the same mean and variance as it is calculated from our training data to transform our test data.\n",
    "X_test = scale.transform(X_test)\n",
    "\n",
    "\n",
    "### OR\n",
    "\n",
    "### Image binarize\n",
    "# Convert the image to BW or keep them as grayscale, because grayscale doesn't add any information.\n"
   ],
   "metadata": {
    "collapsed": false,
    "pycharm": {
     "name": "#%%\n"
    }
   }
  },
  {
   "cell_type": "markdown",
   "source": [
    "## Data augmentation"
   ],
   "metadata": {
    "collapsed": false,
    "pycharm": {
     "name": "#%% md\n"
    }
   }
  },
  {
   "cell_type": "code",
   "execution_count": 167,
   "outputs": [],
   "source": [],
   "metadata": {
    "collapsed": false,
    "pycharm": {
     "name": "#%%\n"
    }
   }
  },
  {
   "cell_type": "markdown",
   "source": [
    "## PCA\n",
    "\n",
    "No use in supervised here."
   ],
   "metadata": {
    "collapsed": false,
    "pycharm": {
     "name": "#%% md\n"
    }
   }
  },
  {
   "cell_type": "markdown",
   "source": [
    "## Hyper-parameters tuning"
   ],
   "metadata": {
    "collapsed": false,
    "pycharm": {
     "name": "#%% md\n"
    }
   }
  },
  {
   "cell_type": "code",
   "execution_count": 168,
   "outputs": [],
   "source": [
    "from sklearn.model_selection import GridSearchCV\n",
    "from sklearn.neighbors import KNeighborsClassifier\n",
    "\n",
    "knn = KNeighborsClassifier()\n",
    "\n",
    "grid_params = {'n_neighbors': [i for i in range(1, 11)], 'weights': [\"uniform\", \"distance\"]}\n",
    "# grid_params = {'n_neighbors': [i for i in range(1, 11)], 'weights': [\"uniform\", \"distance\"]}\n",
    "\n",
    "gsCV = GridSearchCV(knn, grid_params, verbose=3)"
   ],
   "metadata": {
    "collapsed": false,
    "pycharm": {
     "name": "#%%\n"
    }
   }
  },
  {
   "cell_type": "markdown",
   "source": [
    "## Hyper parameter tuning"
   ],
   "metadata": {
    "collapsed": false,
    "pycharm": {
     "name": "#%% md\n"
    }
   }
  },
  {
   "cell_type": "code",
   "execution_count": 169,
   "outputs": [
    {
     "name": "stdout",
     "output_type": "stream",
     "text": [
      "Fitting 5 folds for each of 20 candidates, totalling 100 fits\n",
      "[CV 1/5] END ....n_neighbors=1, weights=uniform;, score=0.965 total time=   3.5s\n",
      "[CV 2/5] END ....n_neighbors=1, weights=uniform;, score=0.965 total time=   3.6s\n",
      "[CV 3/5] END ....n_neighbors=1, weights=uniform;, score=0.966 total time=   3.4s\n",
      "[CV 4/5] END ....n_neighbors=1, weights=uniform;, score=0.961 total time=   3.2s\n",
      "[CV 5/5] END ....n_neighbors=1, weights=uniform;, score=0.965 total time=   3.3s\n",
      "[CV 1/5] END ...n_neighbors=1, weights=distance;, score=0.965 total time=   3.1s\n",
      "[CV 2/5] END ...n_neighbors=1, weights=distance;, score=0.965 total time=   3.1s\n",
      "[CV 3/5] END ...n_neighbors=1, weights=distance;, score=0.966 total time=   3.1s\n",
      "[CV 4/5] END ...n_neighbors=1, weights=distance;, score=0.961 total time=   3.1s\n",
      "[CV 5/5] END ...n_neighbors=1, weights=distance;, score=0.965 total time=   3.1s\n",
      "[CV 1/5] END ....n_neighbors=2, weights=uniform;, score=0.960 total time=   3.7s\n",
      "[CV 2/5] END ....n_neighbors=2, weights=uniform;, score=0.959 total time=   3.5s\n",
      "[CV 3/5] END ....n_neighbors=2, weights=uniform;, score=0.956 total time=   3.3s\n",
      "[CV 4/5] END ....n_neighbors=2, weights=uniform;, score=0.957 total time=   3.3s\n",
      "[CV 5/5] END ....n_neighbors=2, weights=uniform;, score=0.959 total time=   3.3s\n",
      "[CV 1/5] END ...n_neighbors=2, weights=distance;, score=0.965 total time=   3.2s\n",
      "[CV 2/5] END ...n_neighbors=2, weights=distance;, score=0.965 total time=   3.2s\n",
      "[CV 3/5] END ...n_neighbors=2, weights=distance;, score=0.966 total time=   3.1s\n",
      "[CV 4/5] END ...n_neighbors=2, weights=distance;, score=0.961 total time=   3.1s\n",
      "[CV 5/5] END ...n_neighbors=2, weights=distance;, score=0.965 total time=   3.2s\n",
      "[CV 1/5] END ....n_neighbors=3, weights=uniform;, score=0.965 total time=   3.5s\n",
      "[CV 2/5] END ....n_neighbors=3, weights=uniform;, score=0.965 total time=   3.6s\n",
      "[CV 3/5] END ....n_neighbors=3, weights=uniform;, score=0.965 total time=   3.6s\n",
      "[CV 4/5] END ....n_neighbors=3, weights=uniform;, score=0.961 total time=   3.5s\n",
      "[CV 5/5] END ....n_neighbors=3, weights=uniform;, score=0.968 total time=   3.5s\n",
      "[CV 1/5] END ...n_neighbors=3, weights=distance;, score=0.966 total time=   3.4s\n",
      "[CV 2/5] END ...n_neighbors=3, weights=distance;, score=0.967 total time=   3.4s\n",
      "[CV 3/5] END ...n_neighbors=3, weights=distance;, score=0.968 total time=   3.4s\n",
      "[CV 4/5] END ...n_neighbors=3, weights=distance;, score=0.962 total time=   3.4s\n",
      "[CV 5/5] END ...n_neighbors=3, weights=distance;, score=0.969 total time=   3.7s\n",
      "[CV 1/5] END ....n_neighbors=4, weights=uniform;, score=0.963 total time=   4.0s\n",
      "[CV 2/5] END ....n_neighbors=4, weights=uniform;, score=0.963 total time=   4.4s\n",
      "[CV 3/5] END ....n_neighbors=4, weights=uniform;, score=0.964 total time=   4.5s\n",
      "[CV 4/5] END ....n_neighbors=4, weights=uniform;, score=0.961 total time=   4.2s\n",
      "[CV 5/5] END ....n_neighbors=4, weights=uniform;, score=0.966 total time=   4.3s\n",
      "[CV 1/5] END ...n_neighbors=4, weights=distance;, score=0.967 total time=   4.2s\n",
      "[CV 2/5] END ...n_neighbors=4, weights=distance;, score=0.967 total time=   4.3s\n",
      "[CV 3/5] END ...n_neighbors=4, weights=distance;, score=0.969 total time=   4.1s\n",
      "[CV 4/5] END ...n_neighbors=4, weights=distance;, score=0.965 total time=   3.8s\n",
      "[CV 5/5] END ...n_neighbors=4, weights=distance;, score=0.969 total time=   3.9s\n",
      "[CV 1/5] END ....n_neighbors=5, weights=uniform;, score=0.965 total time=   4.0s\n",
      "[CV 2/5] END ....n_neighbors=5, weights=uniform;, score=0.965 total time=   4.1s\n",
      "[CV 3/5] END ....n_neighbors=5, weights=uniform;, score=0.967 total time=   4.2s\n",
      "[CV 4/5] END ....n_neighbors=5, weights=uniform;, score=0.963 total time=   3.9s\n",
      "[CV 5/5] END ....n_neighbors=5, weights=uniform;, score=0.966 total time=   4.1s\n",
      "[CV 1/5] END ...n_neighbors=5, weights=distance;, score=0.966 total time=   3.8s\n",
      "[CV 2/5] END ...n_neighbors=5, weights=distance;, score=0.966 total time=   4.0s\n",
      "[CV 3/5] END ...n_neighbors=5, weights=distance;, score=0.968 total time=   4.0s\n",
      "[CV 4/5] END ...n_neighbors=5, weights=distance;, score=0.964 total time=   4.2s\n",
      "[CV 5/5] END ...n_neighbors=5, weights=distance;, score=0.968 total time=   4.2s\n",
      "[CV 1/5] END ....n_neighbors=6, weights=uniform;, score=0.964 total time=   4.3s\n",
      "[CV 2/5] END ....n_neighbors=6, weights=uniform;, score=0.963 total time=   4.2s\n",
      "[CV 3/5] END ....n_neighbors=6, weights=uniform;, score=0.964 total time=   4.4s\n",
      "[CV 4/5] END ....n_neighbors=6, weights=uniform;, score=0.962 total time=   4.2s\n",
      "[CV 5/5] END ....n_neighbors=6, weights=uniform;, score=0.965 total time=   4.3s\n",
      "[CV 1/5] END ...n_neighbors=6, weights=distance;, score=0.969 total time=   4.1s\n",
      "[CV 2/5] END ...n_neighbors=6, weights=distance;, score=0.967 total time=   4.5s\n",
      "[CV 3/5] END ...n_neighbors=6, weights=distance;, score=0.968 total time=   4.2s\n",
      "[CV 4/5] END ...n_neighbors=6, weights=distance;, score=0.965 total time=   3.9s\n",
      "[CV 5/5] END ...n_neighbors=6, weights=distance;, score=0.969 total time=   3.9s\n",
      "[CV 1/5] END ....n_neighbors=7, weights=uniform;, score=0.964 total time=   4.1s\n",
      "[CV 2/5] END ....n_neighbors=7, weights=uniform;, score=0.962 total time=   4.1s\n",
      "[CV 3/5] END ....n_neighbors=7, weights=uniform;, score=0.964 total time=   4.2s\n",
      "[CV 4/5] END ....n_neighbors=7, weights=uniform;, score=0.958 total time=   4.2s\n",
      "[CV 5/5] END ....n_neighbors=7, weights=uniform;, score=0.964 total time=   4.4s\n",
      "[CV 1/5] END ...n_neighbors=7, weights=distance;, score=0.965 total time=   4.1s\n",
      "[CV 2/5] END ...n_neighbors=7, weights=distance;, score=0.964 total time=   4.4s\n",
      "[CV 3/5] END ...n_neighbors=7, weights=distance;, score=0.966 total time=   4.5s\n",
      "[CV 4/5] END ...n_neighbors=7, weights=distance;, score=0.960 total time=   4.1s\n",
      "[CV 5/5] END ...n_neighbors=7, weights=distance;, score=0.967 total time=   4.2s\n",
      "[CV 1/5] END ....n_neighbors=8, weights=uniform;, score=0.963 total time=   4.2s\n",
      "[CV 2/5] END ....n_neighbors=8, weights=uniform;, score=0.961 total time=   4.5s\n",
      "[CV 3/5] END ....n_neighbors=8, weights=uniform;, score=0.963 total time=   4.7s\n",
      "[CV 4/5] END ....n_neighbors=8, weights=uniform;, score=0.957 total time=   4.3s\n",
      "[CV 5/5] END ....n_neighbors=8, weights=uniform;, score=0.964 total time=   4.4s\n",
      "[CV 1/5] END ...n_neighbors=8, weights=distance;, score=0.966 total time=   4.2s\n",
      "[CV 2/5] END ...n_neighbors=8, weights=distance;, score=0.965 total time=   4.3s\n",
      "[CV 3/5] END ...n_neighbors=8, weights=distance;, score=0.967 total time=   4.2s\n",
      "[CV 4/5] END ...n_neighbors=8, weights=distance;, score=0.960 total time=   4.0s\n",
      "[CV 5/5] END ...n_neighbors=8, weights=distance;, score=0.966 total time=   3.9s\n",
      "[CV 1/5] END ....n_neighbors=9, weights=uniform;, score=0.963 total time=   4.3s\n",
      "[CV 2/5] END ....n_neighbors=9, weights=uniform;, score=0.960 total time=   4.4s\n",
      "[CV 3/5] END ....n_neighbors=9, weights=uniform;, score=0.962 total time=   4.3s\n",
      "[CV 4/5] END ....n_neighbors=9, weights=uniform;, score=0.956 total time=   4.3s\n",
      "[CV 5/5] END ....n_neighbors=9, weights=uniform;, score=0.963 total time=   4.3s\n",
      "[CV 1/5] END ...n_neighbors=9, weights=distance;, score=0.964 total time=   4.0s\n",
      "[CV 2/5] END ...n_neighbors=9, weights=distance;, score=0.963 total time=   4.2s\n",
      "[CV 3/5] END ...n_neighbors=9, weights=distance;, score=0.965 total time=   4.6s\n",
      "[CV 4/5] END ...n_neighbors=9, weights=distance;, score=0.958 total time=   3.9s\n",
      "[CV 5/5] END ...n_neighbors=9, weights=distance;, score=0.965 total time=   4.2s\n",
      "[CV 1/5] END ...n_neighbors=10, weights=uniform;, score=0.962 total time=   4.2s\n",
      "[CV 2/5] END ...n_neighbors=10, weights=uniform;, score=0.960 total time=   4.3s\n",
      "[CV 3/5] END ...n_neighbors=10, weights=uniform;, score=0.961 total time=   4.7s\n",
      "[CV 4/5] END ...n_neighbors=10, weights=uniform;, score=0.955 total time=   4.3s\n",
      "[CV 5/5] END ...n_neighbors=10, weights=uniform;, score=0.962 total time=   4.3s\n",
      "[CV 1/5] END ..n_neighbors=10, weights=distance;, score=0.965 total time=   4.3s\n",
      "[CV 2/5] END ..n_neighbors=10, weights=distance;, score=0.962 total time=   4.1s\n",
      "[CV 3/5] END ..n_neighbors=10, weights=distance;, score=0.964 total time=   4.1s\n",
      "[CV 4/5] END ..n_neighbors=10, weights=distance;, score=0.958 total time=   3.9s\n",
      "[CV 5/5] END ..n_neighbors=10, weights=distance;, score=0.964 total time=   4.2s\n",
      "GridSearchCV(estimator=KNeighborsClassifier(),\n",
      "             param_grid={'n_neighbors': [1, 2, 3, 4, 5, 6, 7, 8, 9, 10],\n",
      "                         'weights': ['uniform', 'distance']},\n",
      "             verbose=3)\n"
     ]
    }
   ],
   "source": [
    "print(gsCV.fit(X_train, y_train))"
   ],
   "metadata": {
    "collapsed": false,
    "pycharm": {
     "name": "#%%\n"
    }
   }
  },
  {
   "cell_type": "markdown",
   "source": [
    "## Choose best model"
   ],
   "metadata": {
    "collapsed": false,
    "pycharm": {
     "name": "#%% md\n"
    }
   }
  },
  {
   "cell_type": "code",
   "execution_count": 170,
   "outputs": [
    {
     "name": "stdout",
     "output_type": "stream",
     "text": [
      "{'n_neighbors': 4, 'weights': 'distance'}\n"
     ]
    }
   ],
   "source": [
    "print(gsCV.best_params_)"
   ],
   "metadata": {
    "collapsed": false,
    "pycharm": {
     "name": "#%%\n"
    }
   }
  },
  {
   "cell_type": "code",
   "execution_count": 171,
   "outputs": [
    {
     "name": "stdout",
     "output_type": "stream",
     "text": [
      "0.9674107142857142\n"
     ]
    }
   ],
   "source": [
    "print(gsCV.best_score_)"
   ],
   "metadata": {
    "collapsed": false,
    "pycharm": {
     "name": "#%%\n"
    }
   }
  },
  {
   "cell_type": "code",
   "execution_count": 172,
   "outputs": [],
   "source": [
    "knn = gsCV.best_estimator_"
   ],
   "metadata": {
    "collapsed": false,
    "pycharm": {
     "name": "#%%\n"
    }
   }
  },
  {
   "cell_type": "markdown",
   "source": [
    "## Train and test chosen model"
   ],
   "metadata": {
    "collapsed": false,
    "pycharm": {
     "name": "#%% md\n"
    }
   }
  },
  {
   "cell_type": "code",
   "execution_count": 173,
   "outputs": [
    {
     "name": "stdout",
     "output_type": "stream",
     "text": [
      "KNeighborsClassifier(n_neighbors=4, weights='distance')\n"
     ]
    }
   ],
   "source": [
    "# Fit\n",
    "print(knn.fit(X_train, y_train))"
   ],
   "metadata": {
    "collapsed": false,
    "pycharm": {
     "name": "#%%\n"
    }
   }
  },
  {
   "cell_type": "code",
   "execution_count": 174,
   "outputs": [],
   "source": [
    "# Predict\n",
    "y_pred_train = knn.predict(X_train)\n",
    "y_pred_test = knn.predict(X_test)"
   ],
   "metadata": {
    "collapsed": false,
    "pycharm": {
     "name": "#%%\n"
    }
   }
  },
  {
   "cell_type": "markdown",
   "source": [
    "## Results"
   ],
   "metadata": {
    "collapsed": false,
    "pycharm": {
     "name": "#%% md\n"
    }
   }
  },
  {
   "cell_type": "code",
   "execution_count": 175,
   "outputs": [
    {
     "name": "stdout",
     "output_type": "stream",
     "text": [
      "Train accuracy: 1.0.\n",
      "Test accuracy: 0.9677380952380953.\n"
     ]
    }
   ],
   "source": [
    "from sklearn.metrics import accuracy_score\n",
    "\n",
    "\n",
    "# Accuracies\n",
    "def print_scores(y_train, y_test, y_pred_train, y_pred_test):\n",
    "    print(f\"Train accuracy: {accuracy_score(y_train, y_pred_train)}.\")\n",
    "    print(f\"Test accuracy: {accuracy_score(y_test, y_pred_test)}.\")\n",
    "\n",
    "\n",
    "print_scores(y_train, y_test, y_pred_train, y_pred_test)"
   ],
   "metadata": {
    "collapsed": false,
    "pycharm": {
     "name": "#%%\n"
    }
   }
  },
  {
   "cell_type": "code",
   "execution_count": 176,
   "outputs": [],
   "source": [
    "# from sklearn.model_selection import cross_val_score\n",
    "#\n",
    "# def print_cross_val_score(model, X, y):\n",
    "#     cross_val_score(model, X, y, cv=5, scoring='roc_auc')"
   ],
   "metadata": {
    "collapsed": false,
    "pycharm": {
     "name": "#%%\n"
    }
   }
  },
  {
   "cell_type": "code",
   "execution_count": 177,
   "outputs": [
    {
     "data": {
      "text/plain": "<Figure size 432x288 with 2 Axes>",
      "image/png": "[encoded data removed]"
     },
     "metadata": {
      "needs_background": "light"
     },
     "output_type": "display_data"
    }
   ],
   "source": [
    "from sklearn.metrics import confusion_matrix\n",
    "import seaborn as sns\n",
    "\n",
    "\n",
    "# Confusion matrix\n",
    "def print_confusion_matrix(y_test, y_pred):\n",
    "    cm = confusion_matrix(y_test, y_pred)\n",
    "    sns.heatmap(cm, annot=True)\n",
    "    plt.show()\n",
    "\n",
    "\n",
    "print_confusion_matrix(y_test, y_pred_test)"
   ],
   "metadata": {
    "collapsed": false,
    "pycharm": {
     "name": "#%%\n"
    }
   }
  },
  {
   "cell_type": "code",
   "execution_count": 178,
   "outputs": [
    {
     "data": {
      "text/plain": "<Figure size 432x288 with 1 Axes>",
      "image/png": "[encoded data removed]"
     },
     "metadata": {
      "needs_background": "light"
     },
     "output_type": "display_data"
    }
   ],
   "source": [
    "from sklearn.metrics import roc_curve\n",
    "\n",
    "# ROC curve\n",
    "def print_roc_curve(X_test, y_test, name, title):\n",
    "    y_pred_prob = knn.predict_proba(X_test)[:,1]\n",
    "    fpr, tpr, thresholds = roc_curve(y_test,y_pred_prob , pos_label=9)\n",
    "    plt.plot(fpr, tpr, label=name)\n",
    "    plt.xlabel(\"False positive\")\n",
    "    plt.ylabel(\"True positive\")\n",
    "    plt.title(title)\n",
    "    plt.show()\n",
    "\n",
    "print_roc_curve(X_test, y_test, \"KNeighborsClassifier\", \"knn roc curve\")"
   ],
   "metadata": {
    "collapsed": false,
    "pycharm": {
     "name": "#%%\n"
    }
   }
  },
  {
   "cell_type": "markdown",
   "source": [
    "## Test of other models"
   ],
   "metadata": {
    "collapsed": false,
    "pycharm": {
     "name": "#%% md\n"
    }
   }
  },
  {
   "cell_type": "code",
   "execution_count": 179,
   "outputs": [
    {
     "name": "stdout",
     "output_type": "stream",
     "text": [
      "Train accuracy: 1.0.\n",
      "Test accuracy: 0.9602380952380952.\n"
     ]
    },
    {
     "data": {
      "text/plain": "<Figure size 432x288 with 2 Axes>",
      "image/png": "[encoded data removed]"
     },
     "metadata": {
      "needs_background": "light"
     },
     "output_type": "display_data"
    },
    {
     "data": {
      "text/plain": "<Figure size 432x288 with 1 Axes>",
      "image/png": "[encoded data removed]"
     },
     "metadata": {
      "needs_background": "light"
     },
     "output_type": "display_data"
    }
   ],
   "source": [
    "from sklearn.ensemble import RandomForestClassifier\n",
    "\n",
    "# grid_params = {'n_neighbors': [i for i in range(1, 11)], 'weights': [\"uniform\", \"distance\"]}\n",
    "# gsCV = GridSearchCV(rnd_forest, grid_params, verbose=3)\n",
    "\n",
    "rnd_forest = RandomForestClassifier()\n",
    "\n",
    "rnd_forest.fit(X_train, y_train)\n",
    "\n",
    "y_pred_train = rnd_forest.predict(X_train)\n",
    "y_pred_test = rnd_forest.predict(X_test)\n",
    "\n",
    "print_scores(y_train, y_test, y_pred_train, y_pred_test)\n",
    "print_confusion_matrix(y_test, y_pred_test)\n",
    "print_roc_curve(X_test, y_test, \"RandomForestClassifier\", \"rnd_forest\")"
   ],
   "metadata": {
    "collapsed": false,
    "pycharm": {
     "name": "#%%\n"
    }
   }
  },
  {
   "cell_type": "code",
   "execution_count": 180,
   "outputs": [
    {
     "name": "stdout",
     "output_type": "stream",
     "text": [
      "Train accuracy: 0.9888392857142857.\n",
      "Test accuracy: 0.974047619047619.\n"
     ]
    },
    {
     "data": {
      "text/plain": "<Figure size 432x288 with 2 Axes>",
      "image/png": "[encoded data removed]"
     },
     "metadata": {
      "needs_background": "light"
     },
     "output_type": "display_data"
    },
    {
     "data": {
      "text/plain": "<Figure size 432x288 with 1 Axes>",
      "image/png": "[encoded data removed]"
     },
     "metadata": {
      "needs_background": "light"
     },
     "output_type": "display_data"
    }
   ],
   "source": [
    "from sklearn import svm\n",
    "\n",
    "svc = svm.SVC()\n",
    "\n",
    "# grid_params = {'n_neighbors': [i for i in range(1, 11)], 'weights': [\"uniform\", \"distance\"]}\n",
    "# gsCV = GridSearchCV(rnd_forest, grid_params, verbose=3)\n",
    "\n",
    "svc.fit(X_train, y_train)\n",
    "\n",
    "y_pred_train = svc.predict(X_train)\n",
    "y_pred_test = svc.predict(X_test)\n",
    "\n",
    "print_scores(y_train, y_test, y_pred_train, y_pred_test)\n",
    "print_confusion_matrix(y_test, y_pred_test)\n",
    "print_roc_curve(X_test, y_test, \"svm\", \"svc\")"
   ],
   "metadata": {
    "collapsed": false,
    "pycharm": {
     "name": "#%%\n"
    }
   }
  },
  {
   "cell_type": "code",
   "execution_count": null,
   "outputs": [],
   "source": [
    "from sklearn.tree import DecisionTreeClassifier\n",
    "\n",
    "dtc = DecisionTreeClassifier()\n",
    "\n",
    "# grid_params = {'n_neighbors': [i for i in range(1, 11)], 'weights': [\"uniform\", \"distance\"]}\n",
    "# gsCV = GridSearchCV(rnd_forest, grid_params, verbose=3)\n",
    "\n",
    "dtc.fit(X_train, y_train)\n",
    "\n",
    "y_pred_train = dtc.predict(X_train)\n",
    "y_pred_test = dtc.predict(X_test)\n",
    "\n",
    "print_scores(y_train, y_test, y_pred_train, y_pred_test)\n",
    "print_confusion_matrix(y_test, y_pred_test)\n",
    "print_roc_curve(X_test, y_test, \"DecisionTreeClassifier\", \"dtc\")\n"
   ],
   "metadata": {
    "collapsed": false,
    "pycharm": {
     "name": "#%%\n"
    }
   }
  },
  {
   "cell_type": "code",
   "execution_count": 181,
   "outputs": [],
   "source": [
    "# from sklearn.naive_bayes import GaussianNB\n",
    "#\n",
    "# gnb = GaussianNB()\n",
    "# gnb.fit(X_train, y_train)\n",
    "# print(gnb.score(X_train,y_train))\n",
    "# y_pred = gnb.predict(X_train)\n",
    "#\n",
    "# from sklearn.metrics import confusion_matrix\n",
    "# import seaborn as sns\n",
    "#\n",
    "# cm = confusion_matrix(y_train, y_pred)\n",
    "# sns.heatmap(cm, annot=True)\n",
    "# plt.show()"
   ],
   "metadata": {
    "collapsed": false,
    "pycharm": {
     "name": "#%%\n"
    }
   }
  },
  {
   "cell_type": "markdown",
   "source": [
    "## Voting Classifier"
   ],
   "metadata": {
    "collapsed": false,
    "pycharm": {
     "name": "#%% md\n"
    }
   }
  },
  {
   "cell_type": "code",
   "execution_count": 184,
   "outputs": [
    {
     "name": "stdout",
     "output_type": "stream",
     "text": [
      "Train accuracy: 1.0.\n",
      "Test accuracy: 0.9721428571428572.\n"
     ]
    },
    {
     "data": {
      "text/plain": "<Figure size 432x288 with 2 Axes>",
      "image/png": "[encoded data removed]"
     },
     "metadata": {
      "needs_background": "light"
     },
     "output_type": "display_data"
    },
    {
     "data": {
      "text/plain": "<Figure size 432x288 with 1 Axes>",
      "image/png": "[encoded data removed]"
     },
     "metadata": {
      "needs_background": "light"
     },
     "output_type": "display_data"
    }
   ],
   "source": [
    "from sklearn.ensemble import VotingClassifier\n",
    "\n",
    "knn = KNeighborsClassifier(n_neighbors=4,weights='distance')\n",
    "svc = svm.SVC()\n",
    "rnd_forest = RandomForestClassifier()\n",
    "\n",
    "vclf = VotingClassifier(estimators=[('knn', knn), ('svc', svc), ('rnd_forest', rnd_forest)], voting='hard')\n",
    "vclf.fit(X_train, y_train)\n",
    "\n",
    "y_pred_test = vclf.predict(X_test)\n",
    "y_pred_train = vclf.predict(X_train)\n",
    "\n",
    "print_scores(y_train, y_test, y_pred_train, y_pred_test)\n",
    "print_confusion_matrix(y_test, y_pred_test)\n",
    "print_roc_curve(X_test, y_test, \"VotingClassifier\", \"votingClassifier\")"
   ],
   "metadata": {
    "collapsed": false,
    "pycharm": {
     "name": "#%%\n"
    }
   }
  },
  {
   "cell_type": "markdown",
   "source": [
    "## Bagging"
   ],
   "metadata": {
    "collapsed": false,
    "pycharm": {
     "name": "#%% md\n"
    }
   }
  },
  {
   "cell_type": "code",
   "execution_count": null,
   "outputs": [],
   "source": [
    "# from sklearn.ensemble import BaggingClassifier\n",
    "#\n",
    "# bclf = BaggingClassifier()\n",
    "#\n",
    "# # grid_params = {'n_neighbors': [i for i in range(1, 11)], 'weights': [\"uniform\", \"distance\"]}\n",
    "# # gsCV = GridSearchCV(rnd_forest, grid_params, verbose=3)\n",
    "#\n",
    "# bclf.fit(X_train, y_train)\n",
    "#\n",
    "# y_pred_train = bclf.predict(X_train)\n",
    "# y_pred_test = bclf.predict(X_test)\n",
    "#\n",
    "# print_scores(y_train, y_test, y_pred_train, y_pred_test)\n",
    "# print_confusion_matrix(y_test, y_pred_test)\n",
    "# print_roc_curve(X_test, y_test, \"DecisionTreeClassifier\", \"dtc\")\n"
   ],
   "metadata": {
    "collapsed": false,
    "pycharm": {
     "name": "#%%\n"
    }
   }
  },
  {
   "cell_type": "markdown",
   "source": [
    "## Random Forest"
   ],
   "metadata": {
    "collapsed": false,
    "pycharm": {
     "name": "#%% md\n"
    }
   }
  },
  {
   "cell_type": "code",
   "execution_count": null,
   "outputs": [],
   "source": [],
   "metadata": {
    "collapsed": false,
    "pycharm": {
     "name": "#%%\n"
    }
   }
  },
  {
   "cell_type": "markdown",
   "source": [
    "## Boosting"
   ],
   "metadata": {
    "collapsed": false,
    "pycharm": {
     "name": "#%% md\n"
    }
   }
  },
  {
   "cell_type": "code",
   "execution_count": null,
   "outputs": [],
   "source": [],
   "metadata": {
    "collapsed": false,
    "pycharm": {
     "name": "#%%\n"
    }
   }
  },
  {
   "cell_type": "markdown",
   "source": [
    "## Stacked models"
   ],
   "metadata": {
    "collapsed": false,
    "pycharm": {
     "name": "#%% md\n"
    }
   }
  },
  {
   "cell_type": "code",
   "execution_count": null,
   "outputs": [],
   "source": [
    "# from sklearn.ensemble import StackingClassifier\n",
    "#\n",
    "# sclf = StackingClassifier()"
   ],
   "metadata": {
    "collapsed": false,
    "pycharm": {
     "name": "#%%\n"
    }
   }
  },
  {
   "cell_type": "markdown",
   "source": [
    "## Conclusion"
   ],
   "metadata": {
    "collapsed": false,
    "pycharm": {
     "name": "#%% md\n"
    }
   }
  },
  {
   "cell_type": "code",
   "execution_count": null,
   "outputs": [],
   "source": [],
   "metadata": {
    "collapsed": false,
    "pycharm": {
     "name": "#%%\n",
     "is_executing": true
    }
   }
  }
 ],
 "metadata": {
  "kernelspec": {
   "display_name": "Python 3",
   "language": "python",
   "name": "python3"
  },
  "language_info": {
   "codemirror_mode": {
    "name": "ipython",
    "version": 2
   },
   "file_extension": ".py",
   "mimetype": "text/x-python",
   "name": "python",
   "nbconvert_exporter": "python",
   "pygments_lexer": "ipython2",
   "version": "2.7.6"
  }
 },
 "nbformat": 4,
 "nbformat_minor": 0
}