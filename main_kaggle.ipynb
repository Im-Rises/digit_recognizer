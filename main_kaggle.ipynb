{
 "cells": [
  {
   "cell_type": "markdown",
   "source": [
    "# Digit recognition in Machine Learning\n"
   ],
   "metadata": {
    "collapsed": false,
    "pycharm": {
     "name": "#%% md\n"
    }
   }
  },
  {
   "cell_type": "markdown",
   "source": [
    "## Desription\n",
    "\n",
    "The MNSIT dataset is composed of a set of 42 000 images for trainging with a resolution of 28x28x1 in grayscale."
   ],
   "metadata": {
    "collapsed": false,
    "pycharm": {
     "name": "#%% md\n"
    }
   }
  },
  {
   "cell_type": "markdown",
   "source": [
    "## Preparing data\n"
   ],
   "metadata": {
    "collapsed": false,
    "pycharm": {
     "name": "#%% md\n"
    }
   },
   "execution_count": 1
  },
  {
   "cell_type": "code",
   "execution_count": 64,
   "outputs": [],
   "source": [
    "import pandas as pd\n",
    "\n",
    "# Load data\n",
    "df_train = pd.read_csv(\"Datasets/train.csv\")\n",
    "df_test = pd.read_csv(\"Datasets/test.csv\")"
   ],
   "metadata": {
    "collapsed": false,
    "pycharm": {
     "name": "#%%\n"
    }
   }
  },
  {
   "cell_type": "code",
   "execution_count": 65,
   "outputs": [],
   "source": [
    "# Split data into train and test\n",
    "y_train = df_train[\"label\"]\n",
    "X_train = df_train.drop(\"label\", axis=1)\n",
    "\n",
    "y_test = []  # Empty no labels for test data\n",
    "X_test = df_test"
   ],
   "metadata": {
    "collapsed": false,
    "pycharm": {
     "name": "#%%\n"
    }
   }
  },
  {
   "cell_type": "markdown",
   "source": [
    "## Show images info"
   ],
   "metadata": {
    "collapsed": false,
    "pycharm": {
     "name": "#%% md\n"
    }
   }
  },
  {
   "cell_type": "code",
   "execution_count": null,
   "outputs": [],
   "source": [
    "df_train.head()"
   ],
   "metadata": {
    "collapsed": false,
    "pycharm": {
     "name": "#%%\n"
    }
   }
  },
  {
   "cell_type": "code",
   "execution_count": null,
   "outputs": [],
   "source": [
    "df_train.info()"
   ],
   "metadata": {
    "collapsed": false,
    "pycharm": {
     "name": "#%%\n"
    }
   }
  },
  {
   "cell_type": "markdown",
   "source": [
    "## Plot images\n",
    "\n",
    "Plot images as BW with reverse BW."
   ],
   "metadata": {
    "collapsed": false,
    "pycharm": {
     "name": "#%% md\n"
    }
   }
  },
  {
   "cell_type": "code",
   "execution_count": 66,
   "outputs": [
    {
     "data": {
      "text/plain": "<Figure size 648x648 with 9 Axes>",
      "image/png": "[encoded data removed]"
     },
     "metadata": {
      "needs_background": "light"
     },
     "output_type": "display_data"
    }
   ],
   "source": [
    "import matplotlib.pyplot as plt\n",
    "\n",
    "plt.figure(figsize=(9, 9))\n",
    "for i in range(9):\n",
    "    plt.subplot(3, 3, i + 1)\n",
    "    plt.imshow(X_train.iloc[i, 0:].values.reshape(28, 28), cmap=plt.cm.gray_r)\n",
    "    plt.axis(\"off\")\n",
    "plt.show()"
   ],
   "metadata": {
    "collapsed": false,
    "pycharm": {
     "name": "#%%\n"
    }
   }
  },
  {
   "cell_type": "markdown",
   "source": [
    "## Images processing"
   ],
   "metadata": {
    "collapsed": false,
    "pycharm": {
     "name": "#%% md\n"
    }
   }
  },
  {
   "cell_type": "code",
   "execution_count": 67,
   "outputs": [],
   "source": [
    "from sklearn.preprocessing import MinMaxScaler\n",
    "\n",
    "### Feature scaling\n",
    "## Rescale to -1,+1 in our case 0,+1 because we only have positive pixels' value:\n",
    "scale = MinMaxScaler()\n",
    "\n",
    "# fit_transform() is used on the training data so that we can scale the training data and also learn the scaling parameters of that data.\n",
    "X_train = scale.fit_transform(X_train)\n",
    "\n",
    "# Using the transform method we can use the same mean and variance as it is calculated from our training data to transform our test data.\n",
    "X_test = scale.transform(X_test)\n",
    "\n",
    "\n",
    "### OR\n",
    "\n",
    "### Image binarization\n",
    "# Convert the image to BW or keep them as grayscale, because grayscale doesn't add any information.\n"
   ],
   "metadata": {
    "collapsed": false,
    "pycharm": {
     "name": "#%%\n"
    }
   }
  },
  {
   "cell_type": "markdown",
   "source": [
    "## Data augmentation"
   ],
   "metadata": {
    "collapsed": false,
    "pycharm": {
     "name": "#%% md\n"
    }
   }
  },
  {
   "cell_type": "code",
   "execution_count": 67,
   "outputs": [],
   "source": [],
   "metadata": {
    "collapsed": false,
    "pycharm": {
     "name": "#%%\n"
    }
   }
  },
  {
   "cell_type": "markdown",
   "source": [
    "## Prepare models"
   ],
   "metadata": {
    "collapsed": false,
    "pycharm": {
     "name": "#%% md\n"
    }
   }
  },
  {
   "cell_type": "code",
   "execution_count": 68,
   "outputs": [],
   "source": [
    "from sklearn.model_selection import GridSearchCV\n",
    "from sklearn.neighbors import KNeighborsClassifier\n",
    "\n",
    "knn = KNeighborsClassifier()\n",
    "\n",
    "grid_params = {'n_neighbors': [i for i in range(1, 11)], 'weights': [\"uniform\", \"distance\"]}\n",
    "\n",
    "gsCV = GridSearchCV(knn, grid_params, verbose=3)"
   ],
   "metadata": {
    "collapsed": false,
    "pycharm": {
     "name": "#%%\n"
    }
   }
  },
  {
   "cell_type": "markdown",
   "source": [
    "## Train models"
   ],
   "metadata": {
    "collapsed": false,
    "pycharm": {
     "name": "#%% md\n"
    }
   }
  },
  {
   "cell_type": "code",
   "execution_count": 69,
   "outputs": [
    {
     "name": "stdout",
     "output_type": "stream",
     "text": [
      "Fitting 5 folds for each of 20 candidates, totalling 100 fits\n",
      "[CV 1/5] END ....n_neighbors=1, weights=uniform;, score=0.966 total time=   4.9s\n",
      "[CV 2/5] END ....n_neighbors=1, weights=uniform;, score=0.968 total time=   4.8s\n",
      "[CV 3/5] END ....n_neighbors=1, weights=uniform;, score=0.963 total time=   4.8s\n",
      "[CV 4/5] END ....n_neighbors=1, weights=uniform;, score=0.967 total time=   4.7s\n",
      "[CV 5/5] END ....n_neighbors=1, weights=uniform;, score=0.967 total time=   4.6s\n",
      "[CV 1/5] END ...n_neighbors=1, weights=distance;, score=0.966 total time=   4.4s\n",
      "[CV 2/5] END ...n_neighbors=1, weights=distance;, score=0.968 total time=   4.5s\n",
      "[CV 3/5] END ...n_neighbors=1, weights=distance;, score=0.963 total time=   5.3s\n",
      "[CV 4/5] END ...n_neighbors=1, weights=distance;, score=0.967 total time=   5.2s\n",
      "[CV 5/5] END ...n_neighbors=1, weights=distance;, score=0.967 total time=   5.1s\n",
      "[CV 1/5] END ....n_neighbors=2, weights=uniform;, score=0.960 total time=   5.1s\n",
      "[CV 2/5] END ....n_neighbors=2, weights=uniform;, score=0.959 total time=   5.4s\n",
      "[CV 3/5] END ....n_neighbors=2, weights=uniform;, score=0.958 total time=   5.1s\n",
      "[CV 4/5] END ....n_neighbors=2, weights=uniform;, score=0.960 total time=   4.9s\n",
      "[CV 5/5] END ....n_neighbors=2, weights=uniform;, score=0.962 total time=   5.1s\n",
      "[CV 1/5] END ...n_neighbors=2, weights=distance;, score=0.966 total time=   4.7s\n",
      "[CV 2/5] END ...n_neighbors=2, weights=distance;, score=0.968 total time=   4.9s\n",
      "[CV 3/5] END ...n_neighbors=2, weights=distance;, score=0.963 total time=   5.0s\n",
      "[CV 4/5] END ...n_neighbors=2, weights=distance;, score=0.967 total time=   5.1s\n",
      "[CV 5/5] END ...n_neighbors=2, weights=distance;, score=0.967 total time=   5.2s\n",
      "[CV 1/5] END ....n_neighbors=3, weights=uniform;, score=0.970 total time=   5.6s\n",
      "[CV 2/5] END ....n_neighbors=3, weights=uniform;, score=0.967 total time=   5.7s\n",
      "[CV 3/5] END ....n_neighbors=3, weights=uniform;, score=0.963 total time=   5.7s\n",
      "[CV 4/5] END ....n_neighbors=3, weights=uniform;, score=0.964 total time=   5.6s\n",
      "[CV 5/5] END ....n_neighbors=3, weights=uniform;, score=0.969 total time=   5.8s\n",
      "[CV 1/5] END ...n_neighbors=3, weights=distance;, score=0.970 total time=   5.4s\n",
      "[CV 2/5] END ...n_neighbors=3, weights=distance;, score=0.969 total time=   5.7s\n",
      "[CV 3/5] END ...n_neighbors=3, weights=distance;, score=0.964 total time=   5.3s\n",
      "[CV 4/5] END ...n_neighbors=3, weights=distance;, score=0.966 total time=   6.0s\n",
      "[CV 5/5] END ...n_neighbors=3, weights=distance;, score=0.971 total time=   5.6s\n",
      "[CV 1/5] END ....n_neighbors=4, weights=uniform;, score=0.967 total time=   6.5s\n",
      "[CV 2/5] END ....n_neighbors=4, weights=uniform;, score=0.964 total time=   5.8s\n",
      "[CV 3/5] END ....n_neighbors=4, weights=uniform;, score=0.963 total time=   6.3s\n",
      "[CV 4/5] END ....n_neighbors=4, weights=uniform;, score=0.963 total time=   5.8s\n",
      "[CV 5/5] END ....n_neighbors=4, weights=uniform;, score=0.968 total time=   6.2s\n",
      "[CV 1/5] END ...n_neighbors=4, weights=distance;, score=0.971 total time=   5.7s\n",
      "[CV 2/5] END ...n_neighbors=4, weights=distance;, score=0.968 total time=   5.6s\n",
      "[CV 3/5] END ...n_neighbors=4, weights=distance;, score=0.966 total time=   6.4s\n",
      "[CV 4/5] END ...n_neighbors=4, weights=distance;, score=0.967 total time=   6.1s\n",
      "[CV 5/5] END ...n_neighbors=4, weights=distance;, score=0.972 total time=   6.5s\n",
      "[CV 1/5] END ....n_neighbors=5, weights=uniform;, score=0.968 total time=   6.1s\n",
      "[CV 2/5] END ....n_neighbors=5, weights=uniform;, score=0.966 total time=   6.0s\n",
      "[CV 3/5] END ....n_neighbors=5, weights=uniform;, score=0.963 total time=   7.0s\n",
      "[CV 4/5] END ....n_neighbors=5, weights=uniform;, score=0.963 total time=   6.1s\n",
      "[CV 5/5] END ....n_neighbors=5, weights=uniform;, score=0.969 total time=   6.6s\n",
      "[CV 1/5] END ...n_neighbors=5, weights=distance;, score=0.969 total time=   5.6s\n",
      "[CV 2/5] END ...n_neighbors=5, weights=distance;, score=0.967 total time=   5.7s\n",
      "[CV 3/5] END ...n_neighbors=5, weights=distance;, score=0.964 total time=   5.9s\n",
      "[CV 4/5] END ...n_neighbors=5, weights=distance;, score=0.964 total time=   5.8s\n",
      "[CV 5/5] END ...n_neighbors=5, weights=distance;, score=0.971 total time=   6.6s\n",
      "[CV 1/5] END ....n_neighbors=6, weights=uniform;, score=0.966 total time=   6.4s\n",
      "[CV 2/5] END ....n_neighbors=6, weights=uniform;, score=0.966 total time=   6.6s\n",
      "[CV 3/5] END ....n_neighbors=6, weights=uniform;, score=0.964 total time=   6.6s\n",
      "[CV 4/5] END ....n_neighbors=6, weights=uniform;, score=0.962 total time=   6.2s\n",
      "[CV 5/5] END ....n_neighbors=6, weights=uniform;, score=0.968 total time=   6.7s\n",
      "[CV 1/5] END ...n_neighbors=6, weights=distance;, score=0.969 total time=   5.9s\n",
      "[CV 2/5] END ...n_neighbors=6, weights=distance;, score=0.967 total time=   6.4s\n",
      "[CV 3/5] END ...n_neighbors=6, weights=distance;, score=0.966 total time=   6.2s\n",
      "[CV 4/5] END ...n_neighbors=6, weights=distance;, score=0.965 total time=   6.3s\n",
      "[CV 5/5] END ...n_neighbors=6, weights=distance;, score=0.971 total time=   6.3s\n",
      "[CV 1/5] END ....n_neighbors=7, weights=uniform;, score=0.965 total time=   6.0s\n",
      "[CV 2/5] END ....n_neighbors=7, weights=uniform;, score=0.965 total time=   6.2s\n",
      "[CV 3/5] END ....n_neighbors=7, weights=uniform;, score=0.962 total time=   6.1s\n",
      "[CV 4/5] END ....n_neighbors=7, weights=uniform;, score=0.963 total time=   6.2s\n",
      "[CV 5/5] END ....n_neighbors=7, weights=uniform;, score=0.968 total time=   6.6s\n",
      "[CV 1/5] END ...n_neighbors=7, weights=distance;, score=0.967 total time=   5.9s\n",
      "[CV 2/5] END ...n_neighbors=7, weights=distance;, score=0.966 total time=   5.8s\n",
      "[CV 3/5] END ...n_neighbors=7, weights=distance;, score=0.963 total time=   6.0s\n",
      "[CV 4/5] END ...n_neighbors=7, weights=distance;, score=0.964 total time=   5.7s\n",
      "[CV 5/5] END ...n_neighbors=7, weights=distance;, score=0.970 total time=   6.3s\n",
      "[CV 1/5] END ....n_neighbors=8, weights=uniform;, score=0.964 total time=   6.1s\n",
      "[CV 2/5] END ....n_neighbors=8, weights=uniform;, score=0.965 total time=   6.0s\n",
      "[CV 3/5] END ....n_neighbors=8, weights=uniform;, score=0.963 total time=   6.2s\n",
      "[CV 4/5] END ....n_neighbors=8, weights=uniform;, score=0.962 total time=   6.5s\n",
      "[CV 5/5] END ....n_neighbors=8, weights=uniform;, score=0.966 total time=   6.6s\n",
      "[CV 1/5] END ...n_neighbors=8, weights=distance;, score=0.967 total time=   6.0s\n",
      "[CV 2/5] END ...n_neighbors=8, weights=distance;, score=0.967 total time=   5.8s\n",
      "[CV 3/5] END ...n_neighbors=8, weights=distance;, score=0.964 total time=   6.4s\n",
      "[CV 4/5] END ...n_neighbors=8, weights=distance;, score=0.965 total time=   6.2s\n",
      "[CV 5/5] END ...n_neighbors=8, weights=distance;, score=0.970 total time=   6.5s\n",
      "[CV 1/5] END ....n_neighbors=9, weights=uniform;, score=0.964 total time=   5.8s\n",
      "[CV 2/5] END ....n_neighbors=9, weights=uniform;, score=0.965 total time=   5.7s\n",
      "[CV 3/5] END ....n_neighbors=9, weights=uniform;, score=0.961 total time=   6.6s\n",
      "[CV 4/5] END ....n_neighbors=9, weights=uniform;, score=0.960 total time=   5.8s\n",
      "[CV 5/5] END ....n_neighbors=9, weights=uniform;, score=0.967 total time=   6.2s\n",
      "[CV 1/5] END ...n_neighbors=9, weights=distance;, score=0.965 total time=   5.6s\n",
      "[CV 2/5] END ...n_neighbors=9, weights=distance;, score=0.965 total time=   5.6s\n",
      "[CV 3/5] END ...n_neighbors=9, weights=distance;, score=0.962 total time=   6.4s\n",
      "[CV 4/5] END ...n_neighbors=9, weights=distance;, score=0.962 total time=   5.8s\n",
      "[CV 5/5] END ...n_neighbors=9, weights=distance;, score=0.968 total time=   6.4s\n",
      "[CV 1/5] END ...n_neighbors=10, weights=uniform;, score=0.964 total time=   6.2s\n",
      "[CV 2/5] END ...n_neighbors=10, weights=uniform;, score=0.963 total time=   6.0s\n",
      "[CV 3/5] END ...n_neighbors=10, weights=uniform;, score=0.959 total time=   6.6s\n",
      "[CV 4/5] END ...n_neighbors=10, weights=uniform;, score=0.960 total time=   6.0s\n",
      "[CV 5/5] END ...n_neighbors=10, weights=uniform;, score=0.966 total time=   6.2s\n",
      "[CV 1/5] END ..n_neighbors=10, weights=distance;, score=0.966 total time=   5.6s\n",
      "[CV 2/5] END ..n_neighbors=10, weights=distance;, score=0.966 total time=   5.6s\n",
      "[CV 3/5] END ..n_neighbors=10, weights=distance;, score=0.961 total time=   6.0s\n",
      "[CV 4/5] END ..n_neighbors=10, weights=distance;, score=0.963 total time=   5.7s\n",
      "[CV 5/5] END ..n_neighbors=10, weights=distance;, score=0.969 total time=   6.0s\n",
      "GridSearchCV(estimator=KNeighborsClassifier(),\n",
      "             param_grid={'n_neighbors': [1, 2, 3, 4, 5, 6, 7, 8, 9, 10],\n",
      "                         'weights': ['uniform', 'distance']},\n",
      "             verbose=3)\n"
     ]
    }
   ],
   "source": [
    "print(gsCV.fit(X_train, y_train))"
   ],
   "metadata": {
    "collapsed": false,
    "pycharm": {
     "name": "#%%\n"
    }
   }
  },
  {
   "cell_type": "markdown",
   "source": [
    "## Choose best model"
   ],
   "metadata": {
    "collapsed": false,
    "pycharm": {
     "name": "#%% md\n"
    }
   }
  },
  {
   "cell_type": "code",
   "execution_count": 70,
   "outputs": [
    {
     "name": "stdout",
     "output_type": "stream",
     "text": [
      "{'n_neighbors': 4, 'weights': 'distance'}\n"
     ]
    }
   ],
   "source": [
    "print(gsCV.best_params_)"
   ],
   "metadata": {
    "collapsed": false,
    "pycharm": {
     "name": "#%%\n"
    }
   }
  },
  {
   "cell_type": "code",
   "execution_count": 71,
   "outputs": [
    {
     "name": "stdout",
     "output_type": "stream",
     "text": [
      "0.9691190476190477\n"
     ]
    }
   ],
   "source": [
    "print(gsCV.best_score_)"
   ],
   "metadata": {
    "collapsed": false,
    "pycharm": {
     "name": "#%%\n"
    }
   }
  },
  {
   "cell_type": "markdown",
   "source": [
    "## Train and test chosen model"
   ],
   "metadata": {
    "collapsed": false,
    "pycharm": {
     "name": "#%% md\n"
    }
   }
  },
  {
   "cell_type": "code",
   "execution_count": 73,
   "outputs": [
    {
     "name": "stdout",
     "output_type": "stream",
     "text": [
      "KNeighborsClassifier(n_neighbors=4, weights='distance')\n"
     ]
    }
   ],
   "source": [
    "print(gsCV.best_estimator_.fit(X_train, y_train))"
   ],
   "metadata": {
    "collapsed": false,
    "pycharm": {
     "name": "#%%\n"
    }
   }
  },
  {
   "cell_type": "code",
   "execution_count": 76,
   "outputs": [],
   "source": [
    "y_pred = gsCV.best_estimator_.predict(X_train)"
   ],
   "metadata": {
    "collapsed": false,
    "pycharm": {
     "name": "#%%\n"
    }
   }
  },
  {
   "cell_type": "markdown",
   "source": [
    "## Results"
   ],
   "metadata": {
    "collapsed": false,
    "pycharm": {
     "name": "#%% md\n"
    }
   }
  },
  {
   "cell_type": "code",
   "execution_count": 77,
   "outputs": [
    {
     "data": {
      "text/plain": "<Figure size 432x288 with 2 Axes>",
      "image/png": "[encoded data removed]"
     },
     "metadata": {
      "needs_background": "light"
     },
     "output_type": "display_data"
    }
   ],
   "source": [
    "from sklearn.metrics import confusion_matrix\n",
    "import seaborn as sns\n",
    "\n",
    "cm = confusion_matrix(y_train, y_pred)\n",
    "sns.heatmap(cm, annot=True)\n",
    "plt.show()"
   ],
   "metadata": {
    "collapsed": false,
    "pycharm": {
     "name": "#%%\n"
    }
   }
  },
  {
   "cell_type": "markdown",
   "source": [
    "## Conclusion"
   ],
   "metadata": {
    "collapsed": false,
    "pycharm": {
     "name": "#%% md\n"
    }
   }
  },
  {
   "cell_type": "code",
   "execution_count": 72,
   "outputs": [],
   "source": [],
   "metadata": {
    "collapsed": false,
    "pycharm": {
     "name": "#%%\n"
    }
   }
  }
 ],
 "metadata": {
  "kernelspec": {
   "display_name": "Python 3",
   "language": "python",
   "name": "python3"
  },
  "language_info": {
   "codemirror_mode": {
    "name": "ipython",
    "version": 2
   },
   "file_extension": ".py",
   "mimetype": "text/x-python",
   "name": "python",
   "nbconvert_exporter": "python",
   "pygments_lexer": "ipython2",
   "version": "2.7.6"
  }
 },
 "nbformat": 4,
 "nbformat_minor": 0
}