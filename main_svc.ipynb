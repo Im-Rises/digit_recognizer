{
 "cells": [
  {
   "cell_type": "markdown",
   "source": [
    "# Digit recognition in Machine Learning with SVM classifier\n"
   ],
   "metadata": {
    "collapsed": false,
    "pycharm": {
     "name": "#%% md\n"
    }
   },
   "execution_count": 1
  },
  {
   "cell_type": "markdown",
   "source": [
    "## Desription\n",
    "\n",
    "The MNSIT dataset is composed of a set of 42 000 images for trainging with a resolution of 28x28x1 in grayscale.\n"
   ],
   "metadata": {
    "collapsed": false,
    "pycharm": {
     "name": "#%% md\n"
    }
   }
  },
  {
   "cell_type": "markdown",
   "source": [
    "## Initialisation\n"
   ],
   "metadata": {
    "collapsed": false,
    "pycharm": {
     "name": "#%% md\n"
    }
   }
  },
  {
   "cell_type": "markdown",
   "source": [
    "### Load data"
   ],
   "metadata": {
    "collapsed": false,
    "pycharm": {
     "name": "#%% md\n"
    }
   }
  },
  {
   "cell_type": "code",
   "execution_count": 1,
   "outputs": [],
   "source": [
    "import pandas as pd\n",
    "\n",
    "df_train = pd.read_csv(\"Datasets/train.csv\")\n",
    "y = df_train[\"label\"]\n",
    "X = df_train.drop(\"label\", axis=1)"
   ],
   "metadata": {
    "collapsed": false,
    "pycharm": {
     "name": "#%%\n"
    }
   }
  },
  {
   "cell_type": "markdown",
   "source": [
    "### Show images info\n"
   ],
   "metadata": {
    "collapsed": false,
    "pycharm": {
     "name": "#%% md\n"
    }
   }
  },
  {
   "cell_type": "code",
   "execution_count": 2,
   "outputs": [
    {
     "name": "stdout",
     "output_type": "stream",
     "text": [
      "   label  pixel0  pixel1  pixel2  pixel3  pixel4  pixel5  pixel6  pixel7  \\\n",
      "0      1       0       0       0       0       0       0       0       0   \n",
      "1      0       0       0       0       0       0       0       0       0   \n",
      "2      1       0       0       0       0       0       0       0       0   \n",
      "3      4       0       0       0       0       0       0       0       0   \n",
      "4      0       0       0       0       0       0       0       0       0   \n",
      "\n",
      "   pixel8  ...  pixel774  pixel775  pixel776  pixel777  pixel778  pixel779  \\\n",
      "0       0  ...         0         0         0         0         0         0   \n",
      "1       0  ...         0         0         0         0         0         0   \n",
      "2       0  ...         0         0         0         0         0         0   \n",
      "3       0  ...         0         0         0         0         0         0   \n",
      "4       0  ...         0         0         0         0         0         0   \n",
      "\n",
      "   pixel780  pixel781  pixel782  pixel783  \n",
      "0         0         0         0         0  \n",
      "1         0         0         0         0  \n",
      "2         0         0         0         0  \n",
      "3         0         0         0         0  \n",
      "4         0         0         0         0  \n",
      "\n",
      "[5 rows x 785 columns]\n"
     ]
    }
   ],
   "source": [
    "print(df_train.head())"
   ],
   "metadata": {
    "collapsed": false,
    "pycharm": {
     "name": "#%%\n"
    }
   }
  },
  {
   "cell_type": "code",
   "execution_count": 3,
   "outputs": [
    {
     "name": "stdout",
     "output_type": "stream",
     "text": [
      "<class 'pandas.core.frame.DataFrame'>\n",
      "RangeIndex: 42000 entries, 0 to 41999\n",
      "Columns: 785 entries, label to pixel783\n",
      "dtypes: int64(785)\n",
      "memory usage: 251.5 MB\n"
     ]
    }
   ],
   "source": [
    "df_train.info()"
   ],
   "metadata": {
    "collapsed": false,
    "pycharm": {
     "name": "#%%\n"
    }
   }
  },
  {
   "cell_type": "markdown",
   "source": [
    "### Plot images\n",
    "\n",
    "Plot images as BW with reversed BW.\n"
   ],
   "metadata": {
    "collapsed": false,
    "pycharm": {
     "name": "#%% md\n"
    }
   }
  },
  {
   "cell_type": "code",
   "execution_count": 4,
   "outputs": [
    {
     "data": {
      "text/plain": "<Figure size 648x648 with 9 Axes>",
      "image/png": "[encoded data removed]"
     },
     "metadata": {
      "needs_background": "light"
     },
     "output_type": "display_data"
    }
   ],
   "source": [
    "import matplotlib.pyplot as plt\n",
    "\n",
    "plt.figure(figsize=(9, 9))\n",
    "for i in range(9):\n",
    "    plt.subplot(3, 3, i + 1)\n",
    "    plt.imshow(X.iloc[i, 0:].values.reshape(28, 28), cmap=plt.cm.gray_r)\n",
    "    plt.axis(\"off\")\n",
    "plt.show()"
   ],
   "metadata": {
    "collapsed": false,
    "pycharm": {
     "name": "#%%\n"
    }
   }
  },
  {
   "cell_type": "markdown",
   "source": [
    "## Split data"
   ],
   "metadata": {
    "collapsed": false,
    "pycharm": {
     "name": "#%% md\n"
    }
   }
  },
  {
   "cell_type": "code",
   "execution_count": 5,
   "outputs": [],
   "source": [
    "from sklearn.model_selection import train_test_split\n",
    "\n",
    "# No use now, handled by gridsearch\n",
    "X_train, X_test, y_train, y_test = train_test_split(X, y, test_size=0.2, shuffle=True)"
   ],
   "metadata": {
    "collapsed": false,
    "pycharm": {
     "name": "#%%\n"
    }
   }
  },
  {
   "cell_type": "markdown",
   "source": [
    "## Hyper-parameters tuning"
   ],
   "metadata": {
    "collapsed": false,
    "pycharm": {
     "name": "#%% md\n"
    }
   }
  },
  {
   "cell_type": "code",
   "execution_count": 6,
   "outputs": [],
   "source": [
    "### Hyper-parameters tuning and cross validation with data split\n",
    "from sklearn.pipeline import Pipeline\n",
    "from sklearn.preprocessing import MinMaxScaler\n",
    "from sklearn.model_selection import GridSearchCV\n",
    "from sklearn import svm\n",
    "\n",
    "steps = [('scaler', MinMaxScaler()), ('svc', svm.SVC())]\n",
    "pipeline = Pipeline(steps)\n",
    "\n",
    "grid_params = {'svc__C': [i for i in range(1, 16)]}\n",
    "\n",
    "gsCV = GridSearchCV(pipeline, grid_params, verbose=4, cv=5)"
   ],
   "metadata": {
    "collapsed": false,
    "pycharm": {
     "name": "#%%\n"
    }
   }
  },
  {
   "cell_type": "code",
   "execution_count": 7,
   "outputs": [
    {
     "name": "stdout",
     "output_type": "stream",
     "text": [
      "Fitting 5 folds for each of 15 candidates, totalling 75 fits\n",
      "[CV 1/5] END ..........................svc__C=1;, score=0.972 total time= 1.4min\n",
      "[CV 2/5] END ..........................svc__C=1;, score=0.974 total time= 1.3min\n",
      "[CV 3/5] END ..........................svc__C=1;, score=0.976 total time= 1.3min\n",
      "[CV 4/5] END ..........................svc__C=1;, score=0.970 total time= 1.3min\n",
      "[CV 5/5] END ..........................svc__C=1;, score=0.972 total time= 1.3min\n",
      "[CV 1/5] END ..........................svc__C=2;, score=0.976 total time= 1.2min\n",
      "[CV 2/5] END ..........................svc__C=2;, score=0.978 total time= 1.2min\n",
      "[CV 3/5] END ..........................svc__C=2;, score=0.979 total time= 1.2min\n",
      "[CV 4/5] END ..........................svc__C=2;, score=0.974 total time= 1.3min\n",
      "[CV 5/5] END ..........................svc__C=2;, score=0.977 total time= 1.3min\n",
      "[CV 1/5] END ..........................svc__C=3;, score=0.977 total time= 1.5min\n",
      "[CV 2/5] END ..........................svc__C=3;, score=0.979 total time= 1.3min\n",
      "[CV 3/5] END ..........................svc__C=3;, score=0.980 total time= 1.3min\n",
      "[CV 4/5] END ..........................svc__C=3;, score=0.975 total time= 1.3min\n",
      "[CV 5/5] END ..........................svc__C=3;, score=0.979 total time= 1.4min\n",
      "[CV 1/5] END ..........................svc__C=4;, score=0.978 total time= 1.5min\n",
      "[CV 2/5] END ..........................svc__C=4;, score=0.979 total time= 1.3min\n",
      "[CV 3/5] END ..........................svc__C=4;, score=0.980 total time= 1.4min\n",
      "[CV 4/5] END ..........................svc__C=4;, score=0.977 total time= 1.3min\n",
      "[CV 5/5] END ..........................svc__C=4;, score=0.979 total time= 1.5min\n",
      "[CV 1/5] END ..........................svc__C=5;, score=0.978 total time= 1.4min\n",
      "[CV 2/5] END ..........................svc__C=5;, score=0.979 total time= 1.4min\n",
      "[CV 3/5] END ..........................svc__C=5;, score=0.981 total time= 1.3min\n",
      "[CV 4/5] END ..........................svc__C=5;, score=0.978 total time= 1.3min\n",
      "[CV 5/5] END ..........................svc__C=5;, score=0.979 total time= 1.4min\n",
      "[CV 1/5] END ..........................svc__C=6;, score=0.978 total time= 1.4min\n",
      "[CV 2/5] END ..........................svc__C=6;, score=0.979 total time= 1.5min\n",
      "[CV 3/5] END ..........................svc__C=6;, score=0.981 total time= 1.4min\n",
      "[CV 4/5] END ..........................svc__C=6;, score=0.978 total time= 1.2min\n",
      "[CV 5/5] END ..........................svc__C=6;, score=0.979 total time= 1.5min\n",
      "[CV 1/5] END ..........................svc__C=7;, score=0.977 total time= 1.3min\n",
      "[CV 2/5] END ..........................svc__C=7;, score=0.979 total time= 1.3min\n",
      "[CV 3/5] END ..........................svc__C=7;, score=0.981 total time= 1.3min\n",
      "[CV 4/5] END ..........................svc__C=7;, score=0.978 total time= 1.2min\n",
      "[CV 5/5] END ..........................svc__C=7;, score=0.979 total time= 1.2min\n",
      "[CV 1/5] END ..........................svc__C=8;, score=0.977 total time= 1.2min\n",
      "[CV 2/5] END ..........................svc__C=8;, score=0.979 total time= 1.2min\n",
      "[CV 3/5] END ..........................svc__C=8;, score=0.981 total time= 1.2min\n",
      "[CV 4/5] END ..........................svc__C=8;, score=0.978 total time= 1.2min\n",
      "[CV 5/5] END ..........................svc__C=8;, score=0.979 total time= 1.2min\n",
      "[CV 1/5] END ..........................svc__C=9;, score=0.977 total time= 1.2min\n",
      "[CV 2/5] END ..........................svc__C=9;, score=0.979 total time= 1.2min\n",
      "[CV 3/5] END ..........................svc__C=9;, score=0.980 total time= 1.2min\n",
      "[CV 4/5] END ..........................svc__C=9;, score=0.978 total time= 1.2min\n",
      "[CV 5/5] END ..........................svc__C=9;, score=0.979 total time= 1.2min\n",
      "[CV 1/5] END .........................svc__C=10;, score=0.977 total time= 1.2min\n",
      "[CV 2/5] END .........................svc__C=10;, score=0.979 total time= 1.2min\n",
      "[CV 3/5] END .........................svc__C=10;, score=0.981 total time= 1.2min\n",
      "[CV 4/5] END .........................svc__C=10;, score=0.978 total time= 1.2min\n",
      "[CV 5/5] END .........................svc__C=10;, score=0.979 total time= 1.2min\n",
      "[CV 1/5] END .........................svc__C=11;, score=0.977 total time= 1.2min\n",
      "[CV 2/5] END .........................svc__C=11;, score=0.979 total time= 1.2min\n",
      "[CV 3/5] END .........................svc__C=11;, score=0.981 total time= 1.2min\n",
      "[CV 4/5] END .........................svc__C=11;, score=0.978 total time= 1.2min\n",
      "[CV 5/5] END .........................svc__C=11;, score=0.979 total time= 1.2min\n",
      "[CV 1/5] END .........................svc__C=12;, score=0.977 total time= 1.2min\n",
      "[CV 2/5] END .........................svc__C=12;, score=0.979 total time= 1.2min\n",
      "[CV 3/5] END .........................svc__C=12;, score=0.981 total time= 1.2min\n",
      "[CV 4/5] END .........................svc__C=12;, score=0.978 total time= 1.2min\n",
      "[CV 5/5] END .........................svc__C=12;, score=0.979 total time= 1.2min\n",
      "[CV 1/5] END .........................svc__C=13;, score=0.977 total time= 1.2min\n",
      "[CV 2/5] END .........................svc__C=13;, score=0.979 total time= 1.2min\n",
      "[CV 3/5] END .........................svc__C=13;, score=0.981 total time= 1.2min\n",
      "[CV 4/5] END .........................svc__C=13;, score=0.978 total time= 1.2min\n",
      "[CV 5/5] END .........................svc__C=13;, score=0.979 total time= 1.2min\n",
      "[CV 1/5] END .........................svc__C=14;, score=0.977 total time= 1.2min\n",
      "[CV 2/5] END .........................svc__C=14;, score=0.979 total time= 1.2min\n",
      "[CV 3/5] END .........................svc__C=14;, score=0.981 total time= 1.2min\n",
      "[CV 4/5] END .........................svc__C=14;, score=0.978 total time= 1.2min\n",
      "[CV 5/5] END .........................svc__C=14;, score=0.979 total time= 1.2min\n",
      "[CV 1/5] END .........................svc__C=15;, score=0.977 total time= 1.2min\n",
      "[CV 2/5] END .........................svc__C=15;, score=0.979 total time= 1.2min\n",
      "[CV 3/5] END .........................svc__C=15;, score=0.981 total time= 1.2min\n",
      "[CV 4/5] END .........................svc__C=15;, score=0.978 total time= 1.2min\n",
      "[CV 5/5] END .........................svc__C=15;, score=0.979 total time= 1.2min\n",
      "GridSearchCV(cv=5,\n",
      "             estimator=Pipeline(steps=[('scaler', MinMaxScaler()),\n",
      "                                       ('svc', SVC())]),\n",
      "             param_grid={'svc__C': [1, 2, 3, 4, 5, 6, 7, 8, 9, 10, 11, 12, 13,\n",
      "                                    14, 15]},\n",
      "             verbose=4)\n"
     ]
    }
   ],
   "source": [
    "print(gsCV.fit(X_train, y_train))"
   ],
   "metadata": {
    "collapsed": false,
    "pycharm": {
     "name": "#%%\n"
    }
   }
  },
  {
   "cell_type": "code",
   "execution_count": 8,
   "outputs": [
    {
     "name": "stdout",
     "output_type": "stream",
     "text": [
      "Pipeline(steps=[('scaler', MinMaxScaler()), ('svc', SVC(C=5))])\n",
      "{'svc__C': 5}\n",
      "0.9790476190476189\n"
     ]
    }
   ],
   "source": [
    "print(gsCV.best_estimator_)\n",
    "print(gsCV.best_params_)\n",
    "print(gsCV.best_score_)"
   ],
   "metadata": {
    "collapsed": false,
    "pycharm": {
     "name": "#%%\n"
    }
   }
  },
  {
   "cell_type": "markdown",
   "source": [
    "## Predict on test set"
   ],
   "metadata": {
    "collapsed": false,
    "pycharm": {
     "name": "#%% md\n"
    }
   }
  },
  {
   "cell_type": "code",
   "execution_count": 12,
   "outputs": [],
   "source": [
    "from sklearn import svm\n",
    "\n",
    "svc = svm.SVC(C=gsCV.best_params_['svc__C'], probability=True)\n",
    "\n",
    "svc.fit(X_train,y_train)\n",
    "\n",
    "y_pred_train = svc.predict(X_train)\n",
    "y_pred_test = svc.predict(X_test)"
   ],
   "metadata": {
    "collapsed": false,
    "pycharm": {
     "name": "#%%\n"
    }
   }
  },
  {
   "cell_type": "code",
   "execution_count": 13,
   "outputs": [
    {
     "name": "stdout",
     "output_type": "stream",
     "text": [
      "Train accuracy: 0.9994047619047619.\n",
      "Test accuracy: 0.9785714285714285.\n"
     ]
    },
    {
     "data": {
      "text/plain": "<Figure size 432x288 with 2 Axes>",
      "image/png": "[encoded data removed]"
     },
     "metadata": {
      "needs_background": "light"
     },
     "output_type": "display_data"
    },
    {
     "data": {
      "text/plain": "<Figure size 432x288 with 1 Axes>",
      "image/png": "[encoded data removed]"
     },
     "metadata": {
      "needs_background": "light"
     },
     "output_type": "display_data"
    }
   ],
   "source": [
    "from sklearn.metrics import accuracy_score\n",
    "from sklearn.metrics import confusion_matrix\n",
    "from sklearn.metrics import roc_curve\n",
    "import seaborn as sns\n",
    "\n",
    "\n",
    "# Accuracies\n",
    "def print_scores(y_train, y_test, y_pred_train, y_pred_test):\n",
    "    print(f\"Train accuracy: {accuracy_score(y_train, y_pred_train)}.\")\n",
    "    print(f\"Test accuracy: {accuracy_score(y_test, y_pred_test)}.\")\n",
    "\n",
    "\n",
    "# Confusion matrix\n",
    "def print_confusion_matrix(y_test, y_pred):\n",
    "    cm = confusion_matrix(y_test, y_pred)\n",
    "    sns.heatmap(cm, annot=True)\n",
    "    plt.show()\n",
    "\n",
    "\n",
    "# ROC curve\n",
    "def print_roc_curve(model, X_test, y_test, name, title):\n",
    "    y_pred_prob = model.predict_proba(X_test)[:, 1]\n",
    "    fpr, tpr, thresholds = roc_curve(y_test, y_pred_prob, pos_label=9)\n",
    "    plt.plot(fpr, tpr, label=name)\n",
    "    plt.xlabel(\"False positive\")\n",
    "    plt.ylabel(\"True positive\")\n",
    "    plt.title(title)\n",
    "    plt.show()\n",
    "\n",
    "\n",
    "print_scores(y_train, y_test, y_pred_train, y_pred_test)\n",
    "print_confusion_matrix(y_test, y_pred_test)\n",
    "print_roc_curve(svc, X_test, y_test, \"SVC\", \"svc roc curve\")"
   ],
   "metadata": {
    "collapsed": false,
    "pycharm": {
     "name": "#%%\n"
    }
   }
  },
  {
   "cell_type": "markdown",
   "source": [
    "## Images processing for true training and test"
   ],
   "metadata": {
    "collapsed": false,
    "pycharm": {
     "name": "#%% md\n"
    }
   }
  },
  {
   "cell_type": "markdown",
   "source": [
    "## Reload true data"
   ],
   "metadata": {
    "collapsed": false,
    "pycharm": {
     "name": "#%% md\n"
    }
   }
  },
  {
   "cell_type": "code",
   "execution_count": 14,
   "outputs": [],
   "source": [
    "X_train = X\n",
    "y_train = y\n",
    "\n",
    "df_test = pd.read_csv(\"Datasets/test.csv\")\n",
    "X_test = df_test\n",
    "y_test = []  # Empty no labels for test data"
   ],
   "metadata": {
    "collapsed": false,
    "pycharm": {
     "name": "#%%\n"
    }
   }
  },
  {
   "cell_type": "markdown",
   "source": [
    "## Scale data"
   ],
   "metadata": {
    "collapsed": false,
    "pycharm": {
     "name": "#%% md\n"
    }
   }
  },
  {
   "cell_type": "code",
   "execution_count": 15,
   "outputs": [],
   "source": [
    "from sklearn.preprocessing import MinMaxScaler\n",
    "\n",
    "## Rescale to -1,+1 in our case 0,+1 because we only have positive pixels' value:\n",
    "scale = MinMaxScaler()\n",
    "\n",
    "# fit_transform() is used on the training data so that we can scale the training data and also learn the scaling parameters of that data.\n",
    "X_train = scale.fit_transform(X_train)\n",
    "\n",
    "# Using the transform method we can use the same mean and variance as it is calculated from our training data to transform our test data.\n",
    "X_test = scale.transform(X_test)"
   ],
   "metadata": {
    "collapsed": false,
    "pycharm": {
     "name": "#%%\n"
    }
   }
  },
  {
   "cell_type": "markdown",
   "source": [
    "## Data augmentation"
   ],
   "metadata": {
    "collapsed": false,
    "pycharm": {
     "name": "#%% md\n"
    }
   }
  },
  {
   "cell_type": "code",
   "execution_count": 16,
   "outputs": [],
   "source": [
    "from scipy.ndimage import shift\n",
    "from scipy.ndimage import rotate\n",
    "from scipy.ndimage import zoom\n",
    "from random import randrange\n",
    "import numpy as np\n",
    "\n",
    "\n",
    "def shift_image(image, dx, dy):\n",
    "    image = image.reshape((28, 28))\n",
    "    shifted_image = shift(image, [dy, dx], cval=0, mode=\"constant\")\n",
    "    return shifted_image.reshape([-1])\n",
    "\n",
    "\n",
    "def rotate_image(image, angle):\n",
    "    image = image.reshape((28, 28))\n",
    "    rotated_image = rotate(image, angle, reshape=False)\n",
    "    return rotated_image.reshape([-1])\n",
    "\n",
    "# Thanks to the answers on the following thread for the function\n",
    "# https://stackoverflow.com/questions/37119071/scipy-rotate-and-zoom-an-image-without-changing-its-dimensions\n",
    "def clipped_zoom(img, zoom_factor):\n",
    "    img = img.reshape((28,28))\n",
    "    h, w = img.shape[:2]\n",
    "    zoom_tuple = (zoom_factor,) * 2 + (1,) * (img.ndim - 2)\n",
    "    if zoom_factor < 1:\n",
    "        zh = int(np.round(h * zoom_factor))\n",
    "        zw = int(np.round(w * zoom_factor))\n",
    "        top = (h - zh) // 2\n",
    "        left = (w - zw) // 2\n",
    "        out = np.zeros_like(img)\n",
    "        out[top:top+zh, left:left+zw] = zoom(img, zoom_tuple)\n",
    "    elif zoom_factor > 1:\n",
    "        zh = int(np.round(h / zoom_factor))\n",
    "        zw = int(np.round(w / zoom_factor))\n",
    "        top = (h - zh) // 2\n",
    "        left = (w - zw) // 2\n",
    "        out = zoom(img[top:top+zh, left:left+zw], zoom_tuple)\n",
    "        trim_top = ((out.shape[0] - h) // 2)\n",
    "        trim_left = ((out.shape[1] - w) // 2)\n",
    "        out = out[trim_top:trim_top+h, trim_left:trim_left+w]\n",
    "    else:\n",
    "        out = img\n",
    "    return out.reshape([-1])\n",
    "\n",
    "\n",
    "X_train_augmented = list(X_train)\n",
    "y_train_augmented = list(y_train)\n",
    "\n",
    "# Add shifted images\n",
    "for dx, dy in ((1, 0), (-1, 0), (0, 1), (0, -1), (1, 1), (-1, -1), (1, -1), (-1, 1)):\n",
    "    for image, label in zip(X_train, y_train):\n",
    "        X_train_augmented.append(shift_image(image, dx, dy))\n",
    "        y_train_augmented.append(label)\n",
    "\n",
    "# Add rotated images\n",
    "for image, label in zip(X_train, y_train):\n",
    "    X_train_augmented.append(rotate_image(image, randrange(0, 28)))\n",
    "    y_train_augmented.append(label)\n",
    "    X_train_augmented.append(rotate_image(image, -randrange(0, 28)))\n",
    "    y_train_augmented.append(label)\n",
    "\n",
    "# # Add zoomed images\n",
    "# for image, label in zip(X_train, y_train):\n",
    "#     X_train_augmented.append(clipped_zoom(image, randrange(5, 16)/10))\n",
    "#     y_train_augmented.append(label)"
   ],
   "metadata": {
    "collapsed": false,
    "pycharm": {
     "name": "#%%\n"
    }
   }
  },
  {
   "cell_type": "markdown",
   "source": [
    "## Model creation"
   ],
   "metadata": {
    "collapsed": false,
    "pycharm": {
     "name": "#%% md\n"
    }
   }
  },
  {
   "cell_type": "code",
   "execution_count": 18,
   "outputs": [],
   "source": [
    "svc = svm.SVC(C=gsCV.best_params_['svc__C'])"
   ],
   "metadata": {
    "collapsed": false,
    "pycharm": {
     "name": "#%%\n"
    }
   }
  },
  {
   "cell_type": "markdown",
   "source": [
    "## Train"
   ],
   "metadata": {
    "collapsed": false,
    "pycharm": {
     "name": "#%% md\n"
    }
   }
  },
  {
   "cell_type": "code",
   "execution_count": 19,
   "outputs": [
    {
     "name": "stdout",
     "output_type": "stream",
     "text": [
      "SVC(C=5)\n"
     ]
    }
   ],
   "source": [
    "print(svc.fit(X_train_augmented, y_train_augmented))"
   ],
   "metadata": {
    "collapsed": false,
    "pycharm": {
     "name": "#%%\n"
    }
   }
  },
  {
   "cell_type": "markdown",
   "source": [
    "## Predict"
   ],
   "metadata": {
    "collapsed": false,
    "pycharm": {
     "name": "#%% md\n"
    }
   }
  },
  {
   "cell_type": "code",
   "execution_count": 20,
   "outputs": [],
   "source": [
    "y_pred_real = svc.predict(X_test)"
   ],
   "metadata": {
    "collapsed": false,
    "pycharm": {
     "name": "#%%\n"
    }
   }
  },
  {
   "cell_type": "markdown",
   "source": [
    "## Write predictions to csv"
   ],
   "metadata": {
    "collapsed": false,
    "pycharm": {
     "name": "#%% md\n"
    }
   }
  },
  {
   "cell_type": "code",
   "execution_count": 21,
   "outputs": [
    {
     "name": "stdout",
     "output_type": "stream",
     "text": [
      "   ImageId  Label\n",
      "0        1      2\n",
      "1        2      0\n",
      "2        3      9\n",
      "3        4      0\n",
      "4        5      3\n"
     ]
    }
   ],
   "source": [
    "df_pred = pd.DataFrame({'ImageId': list(range(1, len(y_pred_real) + 1)), 'Label': y_pred_real})\n",
    "df_pred.to_csv(\"Im-Rises_svc_main.csv\", index=False)\n",
    "print(df_pred.head())\n",
    "\n",
    "# Score: 0.98175\n",
    "# augmented data Score shift only: 0.98757\n",
    "# augmented data Score2 shift and rotate: 0.98975\n",
    "# augmented data Score2 shift, rotate and zoom: 0.98964\n"
   ],
   "metadata": {
    "collapsed": false,
    "pycharm": {
     "name": "#%%\n"
    }
   }
  }
 ],
 "metadata": {
  "kernelspec": {
   "display_name": "Python 3",
   "language": "python",
   "name": "python3"
  },
  "language_info": {
   "codemirror_mode": {
    "name": "ipython",
    "version": 2
   },
   "file_extension": ".py",
   "mimetype": "text/x-python",
   "name": "python",
   "nbconvert_exporter": "python",
   "pygments_lexer": "ipython2",
   "version": "2.7.6"
  }
 },
 "nbformat": 4,
 "nbformat_minor": 0
}